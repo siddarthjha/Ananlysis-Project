{
 "cells": [
  {
   "cell_type": "code",
   "execution_count": 19,
   "metadata": {},
   "outputs": [],
   "source": [
    "import pandas as pd\n",
    "import numpy as np\n",
    "import matplotlib.pyplot as plt\n",
    "from sklearn.cluster import KMeans\n",
    "%matplotlib inline"
   ]
  },
  {
   "cell_type": "code",
   "execution_count": 4,
   "metadata": {},
   "outputs": [
    {
     "data": {
      "text/html": [
       "<div>\n",
       "<style scoped>\n",
       "    .dataframe tbody tr th:only-of-type {\n",
       "        vertical-align: middle;\n",
       "    }\n",
       "\n",
       "    .dataframe tbody tr th {\n",
       "        vertical-align: top;\n",
       "    }\n",
       "\n",
       "    .dataframe thead th {\n",
       "        text-align: right;\n",
       "    }\n",
       "</style>\n",
       "<table border=\"1\" class=\"dataframe\">\n",
       "  <thead>\n",
       "    <tr style=\"text-align: right;\">\n",
       "      <th></th>\n",
       "      <th>TransactionDateTime1</th>\n",
       "      <th>0</th>\n",
       "      <th>1</th>\n",
       "      <th>2</th>\n",
       "      <th>3</th>\n",
       "      <th>4</th>\n",
       "      <th>5</th>\n",
       "      <th>6</th>\n",
       "      <th>7</th>\n",
       "      <th>8</th>\n",
       "      <th>9</th>\n",
       "      <th>...</th>\n",
       "      <th>14</th>\n",
       "      <th>15</th>\n",
       "      <th>16</th>\n",
       "      <th>17</th>\n",
       "      <th>18</th>\n",
       "      <th>19</th>\n",
       "      <th>20</th>\n",
       "      <th>21</th>\n",
       "      <th>22</th>\n",
       "      <th>23</th>\n",
       "    </tr>\n",
       "    <tr>\n",
       "      <th>OutletNumber</th>\n",
       "      <th>PumpNumber1</th>\n",
       "      <th></th>\n",
       "      <th></th>\n",
       "      <th></th>\n",
       "      <th></th>\n",
       "      <th></th>\n",
       "      <th></th>\n",
       "      <th></th>\n",
       "      <th></th>\n",
       "      <th></th>\n",
       "      <th></th>\n",
       "      <th></th>\n",
       "      <th></th>\n",
       "      <th></th>\n",
       "      <th></th>\n",
       "      <th></th>\n",
       "      <th></th>\n",
       "      <th></th>\n",
       "      <th></th>\n",
       "      <th></th>\n",
       "      <th></th>\n",
       "      <th></th>\n",
       "    </tr>\n",
       "  </thead>\n",
       "  <tbody>\n",
       "    <tr>\n",
       "      <th rowspan=\"2\" valign=\"top\">Outlet-o</th>\n",
       "      <th>2</th>\n",
       "      <td>321.56</td>\n",
       "      <td>20.54</td>\n",
       "      <td>NaN</td>\n",
       "      <td>NaN</td>\n",
       "      <td>9.66</td>\n",
       "      <td>135.44</td>\n",
       "      <td>430.65</td>\n",
       "      <td>376.38</td>\n",
       "      <td>1561.94</td>\n",
       "      <td>3004.25</td>\n",
       "      <td>...</td>\n",
       "      <td>1444.53</td>\n",
       "      <td>1382.11</td>\n",
       "      <td>1622.83</td>\n",
       "      <td>1823.53</td>\n",
       "      <td>2159.63</td>\n",
       "      <td>1431.02</td>\n",
       "      <td>1607.74</td>\n",
       "      <td>1302.76</td>\n",
       "      <td>628.47</td>\n",
       "      <td>504.43</td>\n",
       "    </tr>\n",
       "    <tr>\n",
       "      <th>3</th>\n",
       "      <td>138.20</td>\n",
       "      <td>NaN</td>\n",
       "      <td>NaN</td>\n",
       "      <td>NaN</td>\n",
       "      <td>NaN</td>\n",
       "      <td>16.76</td>\n",
       "      <td>10.41</td>\n",
       "      <td>127.71</td>\n",
       "      <td>138.72</td>\n",
       "      <td>844.39</td>\n",
       "      <td>...</td>\n",
       "      <td>788.79</td>\n",
       "      <td>439.67</td>\n",
       "      <td>451.00</td>\n",
       "      <td>585.41</td>\n",
       "      <td>519.65</td>\n",
       "      <td>308.82</td>\n",
       "      <td>355.98</td>\n",
       "      <td>232.18</td>\n",
       "      <td>68.75</td>\n",
       "      <td>76.08</td>\n",
       "    </tr>\n",
       "    <tr>\n",
       "      <th rowspan=\"2\" valign=\"top\">Outlet-p</th>\n",
       "      <th>2</th>\n",
       "      <td>NaN</td>\n",
       "      <td>NaN</td>\n",
       "      <td>NaN</td>\n",
       "      <td>NaN</td>\n",
       "      <td>NaN</td>\n",
       "      <td>NaN</td>\n",
       "      <td>0.03</td>\n",
       "      <td>475.64</td>\n",
       "      <td>975.99</td>\n",
       "      <td>1434.52</td>\n",
       "      <td>...</td>\n",
       "      <td>1111.41</td>\n",
       "      <td>876.45</td>\n",
       "      <td>924.32</td>\n",
       "      <td>735.51</td>\n",
       "      <td>1090.09</td>\n",
       "      <td>1112.29</td>\n",
       "      <td>1075.99</td>\n",
       "      <td>514.64</td>\n",
       "      <td>NaN</td>\n",
       "      <td>NaN</td>\n",
       "    </tr>\n",
       "    <tr>\n",
       "      <th>3</th>\n",
       "      <td>NaN</td>\n",
       "      <td>NaN</td>\n",
       "      <td>NaN</td>\n",
       "      <td>NaN</td>\n",
       "      <td>NaN</td>\n",
       "      <td>NaN</td>\n",
       "      <td>0.00</td>\n",
       "      <td>209.48</td>\n",
       "      <td>569.50</td>\n",
       "      <td>1064.87</td>\n",
       "      <td>...</td>\n",
       "      <td>202.64</td>\n",
       "      <td>344.35</td>\n",
       "      <td>624.32</td>\n",
       "      <td>366.13</td>\n",
       "      <td>407.27</td>\n",
       "      <td>310.19</td>\n",
       "      <td>207.59</td>\n",
       "      <td>35.81</td>\n",
       "      <td>NaN</td>\n",
       "      <td>NaN</td>\n",
       "    </tr>\n",
       "    <tr>\n",
       "      <th rowspan=\"2\" valign=\"top\">Outlet-q</th>\n",
       "      <th>2</th>\n",
       "      <td>1750.50</td>\n",
       "      <td>1466.50</td>\n",
       "      <td>1111.22</td>\n",
       "      <td>1030.06</td>\n",
       "      <td>663.97</td>\n",
       "      <td>716.34</td>\n",
       "      <td>804.91</td>\n",
       "      <td>1820.54</td>\n",
       "      <td>2581.71</td>\n",
       "      <td>4158.43</td>\n",
       "      <td>...</td>\n",
       "      <td>4016.03</td>\n",
       "      <td>3333.20</td>\n",
       "      <td>3578.57</td>\n",
       "      <td>2802.13</td>\n",
       "      <td>2935.66</td>\n",
       "      <td>3095.09</td>\n",
       "      <td>2549.56</td>\n",
       "      <td>1558.53</td>\n",
       "      <td>2093.38</td>\n",
       "      <td>2024.04</td>\n",
       "    </tr>\n",
       "    <tr>\n",
       "      <th>4</th>\n",
       "      <td>8.80</td>\n",
       "      <td>0.51</td>\n",
       "      <td>2.05</td>\n",
       "      <td>7.29</td>\n",
       "      <td>17.41</td>\n",
       "      <td>1.03</td>\n",
       "      <td>0.00</td>\n",
       "      <td>16.32</td>\n",
       "      <td>127.09</td>\n",
       "      <td>136.75</td>\n",
       "      <td>...</td>\n",
       "      <td>158.33</td>\n",
       "      <td>69.19</td>\n",
       "      <td>NaN</td>\n",
       "      <td>21.82</td>\n",
       "      <td>2.05</td>\n",
       "      <td>22.83</td>\n",
       "      <td>43.04</td>\n",
       "      <td>22.52</td>\n",
       "      <td>13.65</td>\n",
       "      <td>40.23</td>\n",
       "    </tr>\n",
       "  </tbody>\n",
       "</table>\n",
       "<p>6 rows × 24 columns</p>\n",
       "</div>"
      ],
      "text/plain": [
       "TransactionDateTime1           0        1        2        3       4       5   \\\n",
       "OutletNumber PumpNumber1                                                       \n",
       "Outlet-o     2             321.56    20.54      NaN      NaN    9.66  135.44   \n",
       "             3             138.20      NaN      NaN      NaN     NaN   16.76   \n",
       "Outlet-p     2                NaN      NaN      NaN      NaN     NaN     NaN   \n",
       "             3                NaN      NaN      NaN      NaN     NaN     NaN   \n",
       "Outlet-q     2            1750.50  1466.50  1111.22  1030.06  663.97  716.34   \n",
       "             4               8.80     0.51     2.05     7.29   17.41    1.03   \n",
       "\n",
       "TransactionDateTime1          6        7        8        9   ...       14  \\\n",
       "OutletNumber PumpNumber1                                     ...            \n",
       "Outlet-o     2            430.65   376.38  1561.94  3004.25  ...  1444.53   \n",
       "             3             10.41   127.71   138.72   844.39  ...   788.79   \n",
       "Outlet-p     2              0.03   475.64   975.99  1434.52  ...  1111.41   \n",
       "             3              0.00   209.48   569.50  1064.87  ...   202.64   \n",
       "Outlet-q     2            804.91  1820.54  2581.71  4158.43  ...  4016.03   \n",
       "             4              0.00    16.32   127.09   136.75  ...   158.33   \n",
       "\n",
       "TransactionDateTime1           15       16       17       18       19  \\\n",
       "OutletNumber PumpNumber1                                                \n",
       "Outlet-o     2            1382.11  1622.83  1823.53  2159.63  1431.02   \n",
       "             3             439.67   451.00   585.41   519.65   308.82   \n",
       "Outlet-p     2             876.45   924.32   735.51  1090.09  1112.29   \n",
       "             3             344.35   624.32   366.13   407.27   310.19   \n",
       "Outlet-q     2            3333.20  3578.57  2802.13  2935.66  3095.09   \n",
       "             4              69.19      NaN    21.82     2.05    22.83   \n",
       "\n",
       "TransactionDateTime1           20       21       22       23  \n",
       "OutletNumber PumpNumber1                                      \n",
       "Outlet-o     2            1607.74  1302.76   628.47   504.43  \n",
       "             3             355.98   232.18    68.75    76.08  \n",
       "Outlet-p     2            1075.99   514.64      NaN      NaN  \n",
       "             3             207.59    35.81      NaN      NaN  \n",
       "Outlet-q     2            2549.56  1558.53  2093.38  2024.04  \n",
       "             4              43.04    22.52    13.65    40.23  \n",
       "\n",
       "[6 rows x 24 columns]"
      ]
     },
     "execution_count": 4,
     "metadata": {},
     "output_type": "execute_result"
    }
   ],
   "source": [
    "df1 = pd.read_csv('Outlet-o.csv') # Reading Data\n",
    "df2 = pd.read_csv('Outlet-p.csv')\n",
    "df3 = pd.read_csv('Outlet-q.csv')\n",
    "\n",
    "df1 = df1.head(9301)\n",
    "df2 = df2.head(7603)\n",
    "df3 = df3.head(14432)\n",
    "\n",
    "# Converting to datetime datatype\n",
    "df1['TransactionDateTime1'] = pd.to_datetime(df1['TransactionDateTime1'], infer_datetime_format=True)\n",
    "df2['TransactionDateTime1'] = pd.to_datetime(df2['TransactionDateTime1'], infer_datetime_format=True)\n",
    "df3['TransactionDateTime1'] = pd.to_datetime(df3['TransactionDateTime1'], infer_datetime_format=True)\n",
    "\n",
    "# Grouping on Outlet Number, Pump Number, Transaction Hour and aggregating the Quantity\n",
    "d1 = df1.groupby([df1['OutletNumber'], df1['PumpNumber1'], df1['TransactionDateTime1'].dt.hour]).agg({'Quantity1':'sum'})\n",
    "d2 = df2.groupby([df2['OutletNumber'], df2['PumpNumber1'], df2['TransactionDateTime1'].dt.hour]).agg({'Quantity1':'sum'})\n",
    "d3 = df3.groupby([df3['OutletNumber'], df3['PumpNumber1'], df3['TransactionDateTime1'].dt.hour]).agg({'Quantity1':'sum'})\n",
    "\n",
    "frames = [d1, d2, d3]\n",
    "d = pd.concat(frames) # Combining all the outlets\n",
    "\n",
    "# Converting the transactions hour into columns via pivot table\n",
    "p = d.pivot_table('Quantity1', ['OutletNumber', 'PumpNumber1'], 'TransactionDateTime1')\n",
    "p.head(30)"
   ]
  },
  {
   "cell_type": "code",
   "execution_count": 5,
   "metadata": {},
   "outputs": [
    {
     "data": {
      "text/html": [
       "<div>\n",
       "<style scoped>\n",
       "    .dataframe tbody tr th:only-of-type {\n",
       "        vertical-align: middle;\n",
       "    }\n",
       "\n",
       "    .dataframe tbody tr th {\n",
       "        vertical-align: top;\n",
       "    }\n",
       "\n",
       "    .dataframe thead th {\n",
       "        text-align: right;\n",
       "    }\n",
       "</style>\n",
       "<table border=\"1\" class=\"dataframe\">\n",
       "  <thead>\n",
       "    <tr style=\"text-align: right;\">\n",
       "      <th></th>\n",
       "      <th>OutletNumber</th>\n",
       "      <th>PumpNumber1</th>\n",
       "      <th>Quantity1</th>\n",
       "      <th>TransactionDateTime1</th>\n",
       "    </tr>\n",
       "  </thead>\n",
       "  <tbody>\n",
       "    <tr>\n",
       "      <th>4</th>\n",
       "      <td>Outlet-q</td>\n",
       "      <td>2</td>\n",
       "      <td>4582.1</td>\n",
       "      <td>13</td>\n",
       "    </tr>\n",
       "    <tr>\n",
       "      <th>5</th>\n",
       "      <td>Outlet-q</td>\n",
       "      <td>4</td>\n",
       "      <td>160.4</td>\n",
       "      <td>13</td>\n",
       "    </tr>\n",
       "  </tbody>\n",
       "</table>\n",
       "</div>"
      ],
      "text/plain": [
       "  OutletNumber  PumpNumber1  Quantity1  TransactionDateTime1\n",
       "4     Outlet-q            2     4582.1                    13\n",
       "5     Outlet-q            4      160.4                    13"
      ]
     },
     "execution_count": 5,
     "metadata": {},
     "output_type": "execute_result"
    }
   ],
   "source": [
    "p.replace(np.nan, 0.00, inplace = True) # Replacing the null values with 0.00\n",
    "\n",
    "da = p.max(axis = 1).reset_index() # Retreiving the maximum volume of each pump \n",
    "da.columns = ['OutletNumber', 'PumpNumber1', 'Quantity1']\n",
    "\n",
    "db = p.idxmax(axis = 1).reset_index() # Retreiving the hour at which the pump has maximum volume\n",
    "db.columns =  ['OutletNumber', 'PumpNumber1', 'TransactionDateTime1']\n",
    "\n",
    "c = pd.merge(da, db) # Merging the table of maximum volume of each pump and at what hour of all outlets \n",
    "\n",
    "oto = c.loc[c['OutletNumber'] == 'Outlet-o'] # Seperating outlet wise data\n",
    "otp = c.loc[c['OutletNumber'] == 'Outlet-p']\n",
    "otq = c.loc[c['OutletNumber'] == 'Outlet-q']\n",
    "otq\n",
    "#c.head(30)"
   ]
  },
  {
   "cell_type": "code",
   "execution_count": 6,
   "metadata": {},
   "outputs": [
    {
     "data": {
      "text/html": [
       "<div>\n",
       "<style scoped>\n",
       "    .dataframe tbody tr th:only-of-type {\n",
       "        vertical-align: middle;\n",
       "    }\n",
       "\n",
       "    .dataframe tbody tr th {\n",
       "        vertical-align: top;\n",
       "    }\n",
       "\n",
       "    .dataframe thead th {\n",
       "        text-align: right;\n",
       "    }\n",
       "</style>\n",
       "<table border=\"1\" class=\"dataframe\">\n",
       "  <thead>\n",
       "    <tr style=\"text-align: right;\">\n",
       "      <th></th>\n",
       "      <th>OutletNumber</th>\n",
       "      <th>PumpNumber1</th>\n",
       "      <th>Quantity1</th>\n",
       "      <th>TransactionDateTime1</th>\n",
       "    </tr>\n",
       "  </thead>\n",
       "  <tbody>\n",
       "    <tr>\n",
       "      <th>0</th>\n",
       "      <td>Outlet-o</td>\n",
       "      <td>2</td>\n",
       "      <td>3004.25</td>\n",
       "      <td>9</td>\n",
       "    </tr>\n",
       "    <tr>\n",
       "      <th>1</th>\n",
       "      <td>Outlet-p</td>\n",
       "      <td>2</td>\n",
       "      <td>1552.31</td>\n",
       "      <td>11</td>\n",
       "    </tr>\n",
       "    <tr>\n",
       "      <th>2</th>\n",
       "      <td>Outlet-q</td>\n",
       "      <td>2</td>\n",
       "      <td>4582.10</td>\n",
       "      <td>13</td>\n",
       "    </tr>\n",
       "  </tbody>\n",
       "</table>\n",
       "</div>"
      ],
      "text/plain": [
       "  OutletNumber  PumpNumber1  Quantity1  TransactionDateTime1\n",
       "0     Outlet-o            2    3004.25                     9\n",
       "1     Outlet-p            2    1552.31                    11\n",
       "2     Outlet-q            2    4582.10                    13"
      ]
     },
     "execution_count": 6,
     "metadata": {},
     "output_type": "execute_result"
    }
   ],
   "source": [
    "# Sort the data on maximum volume of each outlet peak hour\n",
    "c.sort_values(['Quantity1'], axis = 0, ascending = False, inplace = True)\n",
    "c3 = c.groupby('OutletNumber').first().reset_index()\n",
    "c3 = pd.DataFrame(c3)\n",
    "c3.head(10)"
   ]
  },
  {
   "cell_type": "code",
   "execution_count": 26,
   "metadata": {},
   "outputs": [
    {
     "data": {
      "text/plain": [
       "<matplotlib.axes._subplots.AxesSubplot at 0x15d29cf98e0>"
      ]
     },
     "execution_count": 26,
     "metadata": {},
     "output_type": "execute_result"
    },
    {
     "data": {
      "image/png": "[encoded data removed]",
      "text/plain": [
       "<Figure size 432x288 with 1 Axes>"
      ]
     },
     "metadata": {
      "needs_background": "light"
     },
     "output_type": "display_data"
    },
    {
     "data": {
      "image/png": "[encoded data removed]",
      "text/plain": [
       "<Figure size 432x288 with 1 Axes>"
      ]
     },
     "metadata": {
      "needs_background": "light"
     },
     "output_type": "display_data"
    }
   ],
   "source": [
    "# Visual representation of data\n",
    "ax = c3.plot(kind= 'scatter', x = 'OutletNumber', y = 'Quantity1', color = 'r', label ='Outlet vs Quantity')\n",
    "c3.plot(kind = 'scatter', x = 'TransactionDateTime1', y = 'Quantity1', label = 'TransactionDateTime1 vs Quantity')"
   ]
  },
  {
   "cell_type": "code",
   "execution_count": 21,
   "metadata": {},
   "outputs": [
    {
     "data": {
      "text/plain": [
       "<matplotlib.axes._subplots.AxesSubplot at 0x15d2aa76580>"
      ]
     },
     "execution_count": 21,
     "metadata": {},
     "output_type": "execute_result"
    },
    {
     "data": {
      "image/png": "[encoded data removed]",
      "text/plain": [
       "<Figure size 432x288 with 1 Axes>"
      ]
     },
     "metadata": {
      "needs_background": "light"
     },
     "output_type": "display_data"
    }
   ],
   "source": [
    "c.plot(kind= 'scatter', x = 'OutletNumber', y = 'Quantity1', color = 'r', label ='Outlet vs Quantity')"
   ]
  },
  {
   "cell_type": "code",
   "execution_count": 9,
   "metadata": {},
   "outputs": [],
   "source": [
    "# Individual Trade Area Clustering\n",
    "x = c3.iloc[:, [1, 2, 3]].values\n",
    "kmean = KMeans(n_clusters=2)"
   ]
  },
  {
   "cell_type": "code",
   "execution_count": 10,
   "metadata": {},
   "outputs": [
    {
     "name": "stdout",
     "output_type": "stream",
     "text": [
      "[0 0 1]\n"
     ]
    }
   ],
   "source": [
    "y_kmeans = kmean.fit_predict(x) # Categorised the clusters \n",
    "print(y_kmeans)"
   ]
  },
  {
   "cell_type": "code",
   "execution_count": 22,
   "metadata": {},
   "outputs": [
    {
     "data": {
      "image/png": "[encoded data removed]",
      "text/plain": [
       "<Figure size 432x288 with 1 Axes>"
      ]
     },
     "metadata": {
      "needs_background": "light"
     },
     "output_type": "display_data"
    }
   ],
   "source": [
    "# Elbow Method to determine the number of clusters\n",
    "Error =[]\n",
    "for i in range(1, 4):\n",
    "    kmeans = KMeans(n_clusters = i).fit(x)\n",
    "    kmeans.fit(x)\n",
    "    Error.append(kmeans.inertia_)\n",
    "plt.plot(range(1, 4), Error)\n",
    "plt.title('Elbow method')\n",
    "plt.xlabel('No of clusters')\n",
    "plt.ylabel('Error')\n",
    "plt.show()"
   ]
  },
  {
   "cell_type": "code",
   "execution_count": 23,
   "metadata": {},
   "outputs": [
    {
     "data": {
      "text/plain": [
       "<matplotlib.collections.PathCollection at 0x15d29eb3250>"
      ]
     },
     "execution_count": 23,
     "metadata": {},
     "output_type": "execute_result"
    },
    {
     "data": {
      "image/png": "[encoded data removed]",
      "text/plain": [
       "<Figure size 432x288 with 1 Axes>"
      ]
     },
     "metadata": {
      "needs_background": "light"
     },
     "output_type": "display_data"
    }
   ],
   "source": [
    "x1 = c3['OutletNumber']\n",
    "y1 = y_kmeans\n",
    "plt.scatter(x1, y1, cmap = 'rainbow') # clustered data plot of individual outlet"
   ]
  },
  {
   "cell_type": "code",
   "execution_count": 24,
   "metadata": {},
   "outputs": [
    {
     "data": {
      "text/plain": [
       "Text(0, 0.5, 'Time of Hour')"
      ]
     },
     "execution_count": 24,
     "metadata": {},
     "output_type": "execute_result"
    },
    {
     "data": {
      "image/png": "[encoded data removed]",
      "text/plain": [
       "<Figure size 432x288 with 1 Axes>"
      ]
     },
     "metadata": {
      "needs_background": "light"
     },
     "output_type": "display_data"
    }
   ],
   "source": [
    "plt.scatter(x[:, 1], x[:, 2], c = y_kmeans)\n",
    "plt.xlabel('Quantity')\n",
    "plt.ylabel('Time of Hour')"
   ]
  },
  {
   "cell_type": "code",
   "execution_count": 25,
   "metadata": {},
   "outputs": [
    {
     "name": "stdout",
     "output_type": "stream",
     "text": [
      "****Outlet-o Median: 2095.51\n"
     ]
    },
    {
     "data": {
      "text/html": [
       "<div>\n",
       "<style scoped>\n",
       "    .dataframe tbody tr th:only-of-type {\n",
       "        vertical-align: middle;\n",
       "    }\n",
       "\n",
       "    .dataframe tbody tr th {\n",
       "        vertical-align: top;\n",
       "    }\n",
       "\n",
       "    .dataframe thead th {\n",
       "        text-align: right;\n",
       "    }\n",
       "</style>\n",
       "<table border=\"1\" class=\"dataframe\">\n",
       "  <thead>\n",
       "    <tr style=\"text-align: right;\">\n",
       "      <th></th>\n",
       "      <th>OutletNumber</th>\n",
       "      <th>PumpNumber1</th>\n",
       "      <th>Quantity1</th>\n",
       "      <th>TransactionDateTime1</th>\n",
       "    </tr>\n",
       "  </thead>\n",
       "  <tbody>\n",
       "    <tr>\n",
       "      <th>0</th>\n",
       "      <td>Outlet-o</td>\n",
       "      <td>2</td>\n",
       "      <td>3004.25</td>\n",
       "      <td>9</td>\n",
       "    </tr>\n",
       "    <tr>\n",
       "      <th>1</th>\n",
       "      <td>Outlet-o</td>\n",
       "      <td>3</td>\n",
       "      <td>1186.77</td>\n",
       "      <td>10</td>\n",
       "    </tr>\n",
       "  </tbody>\n",
       "</table>\n",
       "</div>"
      ],
      "text/plain": [
       "  OutletNumber  PumpNumber1  Quantity1  TransactionDateTime1\n",
       "0     Outlet-o            2    3004.25                     9\n",
       "1     Outlet-o            3    1186.77                    10"
      ]
     },
     "execution_count": 25,
     "metadata": {},
     "output_type": "execute_result"
    }
   ],
   "source": [
    "print('****Outlet-o Median:', oto['Quantity1'].median()) # Individual Outlet Median\n",
    "oto.head(2)"
   ]
  },
  {
   "cell_type": "code",
   "execution_count": 15,
   "metadata": {},
   "outputs": [
    {
     "name": "stdout",
     "output_type": "stream",
     "text": [
      "****Outlet-p Median: 1350.2549999999972\n"
     ]
    },
    {
     "data": {
      "text/html": [
       "<div>\n",
       "<style scoped>\n",
       "    .dataframe tbody tr th:only-of-type {\n",
       "        vertical-align: middle;\n",
       "    }\n",
       "\n",
       "    .dataframe tbody tr th {\n",
       "        vertical-align: top;\n",
       "    }\n",
       "\n",
       "    .dataframe thead th {\n",
       "        text-align: right;\n",
       "    }\n",
       "</style>\n",
       "<table border=\"1\" class=\"dataframe\">\n",
       "  <thead>\n",
       "    <tr style=\"text-align: right;\">\n",
       "      <th></th>\n",
       "      <th>OutletNumber</th>\n",
       "      <th>PumpNumber1</th>\n",
       "      <th>Quantity1</th>\n",
       "      <th>TransactionDateTime1</th>\n",
       "    </tr>\n",
       "  </thead>\n",
       "  <tbody>\n",
       "    <tr>\n",
       "      <th>2</th>\n",
       "      <td>Outlet-p</td>\n",
       "      <td>2</td>\n",
       "      <td>1552.31</td>\n",
       "      <td>11</td>\n",
       "    </tr>\n",
       "    <tr>\n",
       "      <th>3</th>\n",
       "      <td>Outlet-p</td>\n",
       "      <td>3</td>\n",
       "      <td>1148.20</td>\n",
       "      <td>10</td>\n",
       "    </tr>\n",
       "  </tbody>\n",
       "</table>\n",
       "</div>"
      ],
      "text/plain": [
       "  OutletNumber  PumpNumber1  Quantity1  TransactionDateTime1\n",
       "2     Outlet-p            2    1552.31                    11\n",
       "3     Outlet-p            3    1148.20                    10"
      ]
     },
     "execution_count": 15,
     "metadata": {},
     "output_type": "execute_result"
    }
   ],
   "source": [
    "print('****Outlet-p Median:', otp['Quantity1'].median()) # Individual Outlet Median\n",
    "otp.head(2)"
   ]
  },
  {
   "cell_type": "code",
   "execution_count": 16,
   "metadata": {},
   "outputs": [
    {
     "name": "stdout",
     "output_type": "stream",
     "text": [
      "****Outlet-q Median: 2371.250000000009\n"
     ]
    },
    {
     "data": {
      "text/html": [
       "<div>\n",
       "<style scoped>\n",
       "    .dataframe tbody tr th:only-of-type {\n",
       "        vertical-align: middle;\n",
       "    }\n",
       "\n",
       "    .dataframe tbody tr th {\n",
       "        vertical-align: top;\n",
       "    }\n",
       "\n",
       "    .dataframe thead th {\n",
       "        text-align: right;\n",
       "    }\n",
       "</style>\n",
       "<table border=\"1\" class=\"dataframe\">\n",
       "  <thead>\n",
       "    <tr style=\"text-align: right;\">\n",
       "      <th></th>\n",
       "      <th>OutletNumber</th>\n",
       "      <th>PumpNumber1</th>\n",
       "      <th>Quantity1</th>\n",
       "      <th>TransactionDateTime1</th>\n",
       "    </tr>\n",
       "  </thead>\n",
       "  <tbody>\n",
       "    <tr>\n",
       "      <th>4</th>\n",
       "      <td>Outlet-q</td>\n",
       "      <td>2</td>\n",
       "      <td>4582.1</td>\n",
       "      <td>13</td>\n",
       "    </tr>\n",
       "    <tr>\n",
       "      <th>5</th>\n",
       "      <td>Outlet-q</td>\n",
       "      <td>4</td>\n",
       "      <td>160.4</td>\n",
       "      <td>13</td>\n",
       "    </tr>\n",
       "  </tbody>\n",
       "</table>\n",
       "</div>"
      ],
      "text/plain": [
       "  OutletNumber  PumpNumber1  Quantity1  TransactionDateTime1\n",
       "4     Outlet-q            2     4582.1                    13\n",
       "5     Outlet-q            4      160.4                    13"
      ]
     },
     "execution_count": 16,
     "metadata": {},
     "output_type": "execute_result"
    }
   ],
   "source": [
    "print('****Outlet-q Median:', otq['Quantity1'].median()) # Individual Outlet Median\n",
    "otq.head(2)"
   ]
  },
  {
   "cell_type": "code",
   "execution_count": null,
   "metadata": {},
   "outputs": [],
   "source": []
  }
 ],
 "metadata": {
  "kernelspec": {
   "display_name": "Python 3",
   "language": "python",
   "name": "python3"
  },
  "language_info": {
   "codemirror_mode": {
    "name": "ipython",
    "version": 3
   },
   "file_extension": ".py",
   "mimetype": "text/x-python",
   "name": "python",
   "nbconvert_exporter": "python",
   "pygments_lexer": "ipython3",
   "version": "3.8.3"
  }
 },
 "nbformat": 4,
 "nbformat_minor": 4
}
